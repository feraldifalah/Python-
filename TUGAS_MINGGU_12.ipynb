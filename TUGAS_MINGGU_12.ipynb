{
  "nbformat": 4,
  "nbformat_minor": 0,
  "metadata": {
    "colab": {
      "name": "TUGAS MINGGU 12.ipynb",
      "provenance": [],
      "collapsed_sections": [],
      "authorship_tag": "ABX9TyOAv1EzG/+oJi6EzdGN3csi",
      "include_colab_link": true
    },
    "kernelspec": {
      "name": "python3",
      "display_name": "Python 3"
    }
  },
  "cells": [
    {
      "cell_type": "markdown",
      "metadata": {
        "id": "view-in-github",
        "colab_type": "text"
      },
      "source": [
        "<a href=\"https://colab.research.google.com/github/feraldifalah/Python-/blob/main/TUGAS_MINGGU_12.ipynb\" target=\"_parent\"><img src=\"https://colab.research.google.com/assets/colab-badge.svg\" alt=\"Open In Colab\"/></a>"
      ]
    },
    {
      "cell_type": "code",
      "metadata": {
        "id": "zs9opK_Cndtb"
      },
      "source": [
        "import numpy as np"
      ],
      "execution_count": 35,
      "outputs": []
    },
    {
      "cell_type": "code",
      "metadata": {
        "id": "okT1ERpFov28"
      },
      "source": [
        "def C1(a) :\r\n",
        "    if a >= 400 and a <= 1500 :\r\n",
        "        return 69.55\r\n",
        "    elif a > 1500 and a <= 2000 :\r\n",
        "        return 46.3\r\n",
        "\r\n",
        "def C2(a) : \r\n",
        "    if a >= 400 and a <= 1500 :\r\n",
        "        return 26.16\r\n",
        "    elif a > 1500 and a <= 2000 :\r\n",
        "        return 33.9\r\n",
        "\r\n",
        "def a(a, b) : \r\n",
        "    return (((1.1*np.log10(b))-0.7)*a) - ((1.56*np.log10(b))-0.8)\r\n",
        "\r\n",
        "def Cm(a, b) : \r\n",
        "    if a == 1 :\r\n",
        "        return 0\r\n",
        "    elif a == 2 :\r\n",
        "        return (-2*((np.log10(b/28))**2))-54\r\n",
        "    else :\r\n",
        "        return (-4.78*((np.log10(b))**2))+(18.33*np.log10(b))-40.94\r\n",
        "\r\n",
        "def PathLoss(d, f, Tipe_cm, hT, hR) :\r\n",
        "    return C1(f)+(C2(f)*np.log10(f))-(13.83*np.log10(hT))-a(hR, f)+((44.9-(6.55*np.log10(hT)))*np.log10(d))+Cm(Tipe_cm, f)"
      ],
      "execution_count": 36,
      "outputs": []
    },
    {
      "cell_type": "code",
      "metadata": {
        "colab": {
          "base_uri": "https://localhost:8080/"
        },
        "id": "uo8OuxhOqHAb",
        "outputId": "75a8f1e4-7d64-4c6e-b03a-f957b552c922"
      },
      "source": [
        "print(\"Masukan Parameter yang diinginkan ! \\n\")\r\n",
        "\r\n",
        "d = float(input(\"Jarak Pemancar ke Penerima (km) : \"))\r\n",
        "\r\n",
        "f = float(input(\"Frekuensi (400 MHz - 2000 MHz) : \"))\r\n",
        "while f < 400 or f > 2000 :\r\n",
        "    print(\"Frekuensi Diluar Rentang !!\")\r\n",
        "    f = float(input(\"Frekuensi (400 MHz - 2000 MHz) : \"))\r\n",
        "\r\n",
        "print(\"\"\"Tipe Area :\\n\r\n",
        "1. Urban\\n\r\n",
        "2. Suburban\\n\r\n",
        "3. Open\\n\"\"\")\r\n",
        "Type_Cm = int(input(\"Tipe Area (1/2/3) : \"))\r\n",
        "\r\n",
        "while Type_Cm < 1 or Type_Cm > 3 :\r\n",
        "    print(\"Anda belum memilih Tipe Area !!\")\r\n",
        "    print(\"\"\"Tipe Area :\\n\r\n",
        "    1. Urban\\n\r\n",
        "    2. Suburban\\n\r\n",
        "    3. Open\\n\"\"\")\r\n",
        "    Type_Cm = int(input(\"Tipe Area (1/2/3) : \"))\r\n",
        "if Type_Cm == 1 :\r\n",
        "    Tipe_Area = \"Urban\"\r\n",
        "elif Type_Cm == 2 :\r\n",
        "    Tipe_Area = \"Suburban\"\r\n",
        "else :\r\n",
        "    Tipe_Area = \"Open\"\r\n",
        "\r\n",
        "hT = float(input(\"Tinggi Pemancar (30 m - 200 m) : \"))\r\n",
        "while hT < 30 or hT > 200 :\r\n",
        "    print(\"Tinggi Pemancar Diluar Rentang !!\")\r\n",
        "    hT = float(input(\"Tinggi Pemancar (30 m - 200 m) : \"))\r\n",
        "\r\n",
        "hR = float(input(\"Tinggi Penerima (1 m - 30 m) : \"))\r\n",
        "while hR < 1 or hR > 30 :\r\n",
        "    print(\"Tinggi Penerima Diluar Rentang !!\")\r\n",
        "    hR = float(input(\"Tinggi Penerima (1 m - 30 m) : \"))"
      ],
      "execution_count": 37,
      "outputs": [
        {
          "output_type": "stream",
          "text": [
            "Masukan Parameter yang diinginkan ! \n",
            "\n",
            "Jarak Pemancar ke Penerima (km) : 3\n",
            "Frekuensi (400 MHz - 2000 MHz) : 600\n",
            "Tipe Area :\n",
            "\n",
            "1. Urban\n",
            "\n",
            "2. Suburban\n",
            "\n",
            "3. Open\n",
            "\n",
            "Tipe Area (1/2/3) : 3\n",
            "Tinggi Pemancar (30 m - 200 m) : 100\n",
            "Tinggi Penerima (1 m - 30 m) : 20\n"
          ],
          "name": "stdout"
        }
      ]
    },
    {
      "cell_type": "code",
      "metadata": {
        "id": "lnDZwA4Pqv1p",
        "colab": {
          "base_uri": "https://localhost:8080/"
        },
        "outputId": "74973ef0-bcca-478d-ee5a-2b30425b340f"
      },
      "source": [
        "print(\"Parameter yang anda masukan :\")\r\n",
        "print(\"\"\"1. Jarak Pemancar ke Penerima  : {} km\\n\r\n",
        "2. Frekuensi  : {} MHz\\n\r\n",
        "3. Tipe Area  : Area {}\\n\r\n",
        "4. Tinggi Pemancar  : {} m\\n\r\n",
        "5. Tinggi Penerima  : {} m\\n\"\"\".format(d, f, Tipe_Area, hT, hR))\r\n",
        "print(\"Pathloss berdasarkan parameter diatas adalah :\", PathLoss(d, f, Type_Cm, hT, hR), \"dB\")"
      ],
      "execution_count": 38,
      "outputs": [
        {
          "output_type": "stream",
          "text": [
            "Parameter yang anda masukan :\n",
            "1. Jarak Pemancar ke Penerima  : 3.0 km\n",
            "\n",
            "2. Frekuensi  : 600.0 MHz\n",
            "\n",
            "3. Tipe Area  : Area Open\n",
            "\n",
            "4. Tinggi Pemancar  : 100.0 m\n",
            "\n",
            "5. Tinggi Penerima  : 20.0 m\n",
            "\n",
            "Pathloss berdasarkan parameter diatas adalah : 59.24435898317271 dB\n"
          ],
          "name": "stdout"
        }
      ]
    },
    {
      "cell_type": "code",
      "metadata": {
        "id": "Nkfjlrut3Gc8",
        "colab": {
          "base_uri": "https://localhost:8080/"
        },
        "outputId": "fcd6d17a-da67-434c-c26b-07b287d53f50"
      },
      "source": [
        "print(\"Nama : Mohammad Feraldi Falah\")\r\n",
        "print(\"Kelas : TT-43-G11\")\r\n",
        "print(\"NIM : 1101190367\")"
      ],
      "execution_count": 39,
      "outputs": [
        {
          "output_type": "stream",
          "text": [
            "Nama : Mohammad Feraldi Falah\n",
            "Kelas : TT-43-G11\n",
            "NIM : 1101190367\n"
          ],
          "name": "stdout"
        }
      ]
    }
  ]
}