{
  "nbformat": 4,
  "nbformat_minor": 0,
  "metadata": {
    "colab": {
      "name": "TUGAS PYHTON 2.ipynb",
      "provenance": [],
      "authorship_tag": "ABX9TyNF9hdK/2FpjjlFhxpDLEzc",
      "include_colab_link": true
    },
    "kernelspec": {
      "name": "python3",
      "display_name": "Python 3"
    }
  },
  "cells": [
    {
      "cell_type": "markdown",
      "metadata": {
        "id": "view-in-github",
        "colab_type": "text"
      },
      "source": [
        "<a href=\"https://colab.research.google.com/github/feraldifalah/Python-/blob/main/TUGAS_PYHTON_2.ipynb\" target=\"_parent\"><img src=\"https://colab.research.google.com/assets/colab-badge.svg\" alt=\"Open In Colab\"/></a>"
      ]
    },
    {
      "cell_type": "code",
      "metadata": {
        "colab": {
          "base_uri": "https://localhost:8080/"
        },
        "id": "_lkEePicFrmF",
        "outputId": "74d4686c-7554-4f04-e7e9-101517cae1c3"
      },
      "source": [
        "from google.colab import drive\n",
        "drive.mount('/content/drive')"
      ],
      "execution_count": 214,
      "outputs": [
        {
          "output_type": "stream",
          "text": [
            "Drive already mounted at /content/drive; to attempt to forcibly remount, call drive.mount(\"/content/drive\", force_remount=True).\n"
          ],
          "name": "stdout"
        }
      ]
    },
    {
      "cell_type": "code",
      "metadata": {
        "colab": {
          "base_uri": "https://localhost:8080/"
        },
        "id": "Npv_7hURF0aV",
        "outputId": "df2ae9dc-2433-4efd-b0e6-7b498a22b430"
      },
      "source": [
        "cd /content/drive/MyDrive/Colab Notebooks"
      ],
      "execution_count": 215,
      "outputs": [
        {
          "output_type": "stream",
          "text": [
            "/content/drive/MyDrive/Colab Notebooks\n"
          ],
          "name": "stdout"
        }
      ]
    },
    {
      "cell_type": "code",
      "metadata": {
        "id": "5NS6J162F_u4"
      },
      "source": [
        "from keras.models import Sequential\n",
        "from keras.layers.core import Activation\n",
        "from keras.layers.core import Flatten\n",
        "from keras.layers.core import Dense\n",
        "from keras.optimizers import Adam\n",
        "from sklearn.preprocessing import LabelBinarizer\n",
        "from sklearn.model_selection import train_test_split\n",
        "from sklearn.metrics import classification_report\n",
        "import matplotlib.pyplot as plt\n",
        "from PIL import Image\n",
        "from imutils import paths\n",
        "import numpy as np\n",
        "import os\n",
        "import cv2\n",
        "from keras.layers import Convolution2D,MaxPooling2D"
      ],
      "execution_count": 216,
      "outputs": []
    },
    {
      "cell_type": "code",
      "metadata": {
        "colab": {
          "base_uri": "https://localhost:8080/"
        },
        "id": "pwY4ViU0GMF0",
        "outputId": "be1abca5-b7ec-4939-a7eb-dcac8ffd561c"
      },
      "source": [
        "print(\"[INFO] Loading Images ...\")\n",
        "image_paths = paths.list_images('foto')\n",
        "data = []\n",
        "labels = []\n",
        "\n",
        "for image_path in image_paths :\n",
        "  image = Image.open(image_path)\n",
        "  image = np.array(image.resize((128,128))) / 255.0\n",
        "  data.append(image)\n",
        "  \n",
        "  label = image_path.split(os.path.sep)[-2]\n",
        "  labels.append(label)"
      ],
      "execution_count": 217,
      "outputs": [
        {
          "output_type": "stream",
          "text": [
            "[INFO] Loading Images ...\n"
          ],
          "name": "stdout"
        }
      ]
    },
    {
      "cell_type": "code",
      "metadata": {
        "id": "-luXY95lILL0"
      },
      "source": [
        "lb = LabelBinarizer()\n",
        "labels = lb.fit_transform(labels)\n",
        "(trainX, testX, trainY, testY) = train_test_split(np.array(data), np.array(labels), test_size=0.3, shuffle=True)"
      ],
      "execution_count": 218,
      "outputs": []
    },
    {
      "cell_type": "code",
      "metadata": {
        "id": "hKaPZ9ZgKV-e"
      },
      "source": [
        "model = Sequential()\n",
        "model.add(Convolution2D(64, 3, 3, activation='relu', input_shape=(128, 128, 3)))\n",
        "model.add(MaxPooling2D(2, 2))\n",
        "model.add(Convolution2D(256, 3, 3, activation='relu'))\n",
        "model.add(MaxPooling2D(2, 2))\n",
        "\n",
        "model.add(Flatten())\n",
        "model.add(Dense(128, activation='relu'))\n",
        "model.add(Dense(64, activation='relu'))\n",
        "model.add(Dense(32, activation='relu'))\n",
        "model.add(Dense(5, activation='softmax'))"
      ],
      "execution_count": 221,
      "outputs": []
    },
    {
      "cell_type": "code",
      "metadata": {
        "colab": {
          "base_uri": "https://localhost:8080/"
        },
        "id": "D7n69gCkPN1U",
        "outputId": "8559965c-2a14-49dc-c624-c166a50ebc0d"
      },
      "source": [
        "print(\"[INFO] training network ...\")\n",
        "opt = Adam(lr=1e-3, decay=1e-3 / 50)\n",
        "model.compile(loss=\"categorical_crossentropy\", optimizer=opt, metrics=[\"accuracy\"])\n",
        "H = model.fit(trainX, trainY, validation_data=(testX, testY), epochs=100, batch_size=32)"
      ],
      "execution_count": 222,
      "outputs": [
        {
          "output_type": "stream",
          "text": [
            "[INFO] training network ...\n",
            "Epoch 1/100\n",
            "13/13 [==============================] - 1s 106ms/step - loss: 1.6163 - accuracy: 0.1936 - val_loss: 1.6066 - val_accuracy: 0.1875\n",
            "Epoch 2/100\n",
            "13/13 [==============================] - 1s 92ms/step - loss: 1.6065 - accuracy: 0.2181 - val_loss: 1.5979 - val_accuracy: 0.3409\n",
            "Epoch 3/100\n",
            "13/13 [==============================] - 1s 94ms/step - loss: 1.5853 - accuracy: 0.2868 - val_loss: 1.5469 - val_accuracy: 0.3409\n",
            "Epoch 4/100\n",
            "13/13 [==============================] - 1s 93ms/step - loss: 1.5071 - accuracy: 0.3627 - val_loss: 1.4032 - val_accuracy: 0.3807\n",
            "Epoch 5/100\n",
            "13/13 [==============================] - 1s 93ms/step - loss: 1.4154 - accuracy: 0.3725 - val_loss: 1.3160 - val_accuracy: 0.4489\n",
            "Epoch 6/100\n",
            "13/13 [==============================] - 1s 93ms/step - loss: 1.3203 - accuracy: 0.3971 - val_loss: 1.2755 - val_accuracy: 0.4318\n",
            "Epoch 7/100\n",
            "13/13 [==============================] - 1s 96ms/step - loss: 1.3485 - accuracy: 0.3971 - val_loss: 1.2634 - val_accuracy: 0.4205\n",
            "Epoch 8/100\n",
            "13/13 [==============================] - 1s 93ms/step - loss: 1.2309 - accuracy: 0.4608 - val_loss: 1.2005 - val_accuracy: 0.5341\n",
            "Epoch 9/100\n",
            "13/13 [==============================] - 1s 94ms/step - loss: 1.1550 - accuracy: 0.5049 - val_loss: 1.1812 - val_accuracy: 0.4659\n",
            "Epoch 10/100\n",
            "13/13 [==============================] - 1s 94ms/step - loss: 1.0988 - accuracy: 0.5270 - val_loss: 1.0991 - val_accuracy: 0.5284\n",
            "Epoch 11/100\n",
            "13/13 [==============================] - 1s 95ms/step - loss: 1.0429 - accuracy: 0.5539 - val_loss: 1.0910 - val_accuracy: 0.5455\n",
            "Epoch 12/100\n",
            "13/13 [==============================] - 1s 94ms/step - loss: 0.9514 - accuracy: 0.6250 - val_loss: 0.9307 - val_accuracy: 0.5966\n",
            "Epoch 13/100\n",
            "13/13 [==============================] - 1s 94ms/step - loss: 0.8356 - accuracy: 0.6838 - val_loss: 0.8980 - val_accuracy: 0.6193\n",
            "Epoch 14/100\n",
            "13/13 [==============================] - 1s 94ms/step - loss: 0.7609 - accuracy: 0.7083 - val_loss: 0.8411 - val_accuracy: 0.6534\n",
            "Epoch 15/100\n",
            "13/13 [==============================] - 1s 94ms/step - loss: 0.7200 - accuracy: 0.7353 - val_loss: 1.0406 - val_accuracy: 0.5625\n",
            "Epoch 16/100\n",
            "13/13 [==============================] - 1s 93ms/step - loss: 0.6850 - accuracy: 0.7500 - val_loss: 0.7884 - val_accuracy: 0.6364\n",
            "Epoch 17/100\n",
            "13/13 [==============================] - 1s 94ms/step - loss: 0.5921 - accuracy: 0.7941 - val_loss: 0.7910 - val_accuracy: 0.6705\n",
            "Epoch 18/100\n",
            "13/13 [==============================] - 1s 95ms/step - loss: 0.5566 - accuracy: 0.7843 - val_loss: 0.7687 - val_accuracy: 0.6875\n",
            "Epoch 19/100\n",
            "13/13 [==============================] - 1s 95ms/step - loss: 0.4931 - accuracy: 0.8333 - val_loss: 0.7357 - val_accuracy: 0.7102\n",
            "Epoch 20/100\n",
            "13/13 [==============================] - 1s 94ms/step - loss: 0.4604 - accuracy: 0.8358 - val_loss: 0.8943 - val_accuracy: 0.6875\n",
            "Epoch 21/100\n",
            "13/13 [==============================] - 1s 94ms/step - loss: 0.4454 - accuracy: 0.8309 - val_loss: 0.7159 - val_accuracy: 0.7273\n",
            "Epoch 22/100\n",
            "13/13 [==============================] - 1s 94ms/step - loss: 0.4132 - accuracy: 0.8627 - val_loss: 0.8283 - val_accuracy: 0.7102\n",
            "Epoch 23/100\n",
            "13/13 [==============================] - 1s 94ms/step - loss: 0.3405 - accuracy: 0.8897 - val_loss: 0.7306 - val_accuracy: 0.7216\n",
            "Epoch 24/100\n",
            "13/13 [==============================] - 1s 94ms/step - loss: 0.3403 - accuracy: 0.8578 - val_loss: 0.8810 - val_accuracy: 0.7216\n",
            "Epoch 25/100\n",
            "13/13 [==============================] - 1s 95ms/step - loss: 0.2599 - accuracy: 0.9069 - val_loss: 0.6551 - val_accuracy: 0.7727\n",
            "Epoch 26/100\n",
            "13/13 [==============================] - 1s 96ms/step - loss: 0.2190 - accuracy: 0.9387 - val_loss: 0.6531 - val_accuracy: 0.7841\n",
            "Epoch 27/100\n",
            "13/13 [==============================] - 1s 95ms/step - loss: 0.2056 - accuracy: 0.9412 - val_loss: 0.7222 - val_accuracy: 0.7614\n",
            "Epoch 28/100\n",
            "13/13 [==============================] - 1s 95ms/step - loss: 0.1839 - accuracy: 0.9363 - val_loss: 0.6574 - val_accuracy: 0.7614\n",
            "Epoch 29/100\n",
            "13/13 [==============================] - 1s 96ms/step - loss: 0.1617 - accuracy: 0.9534 - val_loss: 0.6975 - val_accuracy: 0.7557\n",
            "Epoch 30/100\n",
            "13/13 [==============================] - 1s 97ms/step - loss: 0.1362 - accuracy: 0.9632 - val_loss: 0.7496 - val_accuracy: 0.7727\n",
            "Epoch 31/100\n",
            "13/13 [==============================] - 1s 95ms/step - loss: 0.1437 - accuracy: 0.9559 - val_loss: 0.6833 - val_accuracy: 0.7614\n",
            "Epoch 32/100\n",
            "13/13 [==============================] - 1s 95ms/step - loss: 0.1326 - accuracy: 0.9730 - val_loss: 0.7128 - val_accuracy: 0.7614\n",
            "Epoch 33/100\n",
            "13/13 [==============================] - 1s 95ms/step - loss: 0.0996 - accuracy: 0.9755 - val_loss: 0.7642 - val_accuracy: 0.7614\n",
            "Epoch 34/100\n",
            "13/13 [==============================] - 1s 100ms/step - loss: 0.0704 - accuracy: 0.9926 - val_loss: 0.8346 - val_accuracy: 0.7443\n",
            "Epoch 35/100\n",
            "13/13 [==============================] - 1s 95ms/step - loss: 0.0638 - accuracy: 0.9853 - val_loss: 0.8541 - val_accuracy: 0.7443\n",
            "Epoch 36/100\n",
            "13/13 [==============================] - 1s 97ms/step - loss: 0.0725 - accuracy: 0.9853 - val_loss: 0.7103 - val_accuracy: 0.7955\n",
            "Epoch 37/100\n",
            "13/13 [==============================] - 1s 95ms/step - loss: 0.0507 - accuracy: 0.9951 - val_loss: 0.8010 - val_accuracy: 0.7614\n",
            "Epoch 38/100\n",
            "13/13 [==============================] - 1s 95ms/step - loss: 0.0445 - accuracy: 0.9975 - val_loss: 0.6773 - val_accuracy: 0.7841\n",
            "Epoch 39/100\n",
            "13/13 [==============================] - 1s 96ms/step - loss: 0.0326 - accuracy: 1.0000 - val_loss: 0.6860 - val_accuracy: 0.7841\n",
            "Epoch 40/100\n",
            "13/13 [==============================] - 1s 95ms/step - loss: 0.0213 - accuracy: 1.0000 - val_loss: 0.6948 - val_accuracy: 0.7841\n",
            "Epoch 41/100\n",
            "13/13 [==============================] - 1s 97ms/step - loss: 0.0214 - accuracy: 1.0000 - val_loss: 0.7389 - val_accuracy: 0.7727\n",
            "Epoch 42/100\n",
            "13/13 [==============================] - 1s 96ms/step - loss: 0.0155 - accuracy: 1.0000 - val_loss: 0.7200 - val_accuracy: 0.7898\n",
            "Epoch 43/100\n",
            "13/13 [==============================] - 1s 96ms/step - loss: 0.0141 - accuracy: 1.0000 - val_loss: 0.6992 - val_accuracy: 0.7784\n",
            "Epoch 44/100\n",
            "13/13 [==============================] - 1s 96ms/step - loss: 0.0193 - accuracy: 0.9975 - val_loss: 0.7662 - val_accuracy: 0.7841\n",
            "Epoch 45/100\n",
            "13/13 [==============================] - 1s 97ms/step - loss: 0.0290 - accuracy: 0.9951 - val_loss: 0.7167 - val_accuracy: 0.7841\n",
            "Epoch 46/100\n",
            "13/13 [==============================] - 1s 96ms/step - loss: 0.0250 - accuracy: 0.9951 - val_loss: 0.7319 - val_accuracy: 0.7614\n",
            "Epoch 47/100\n",
            "13/13 [==============================] - 1s 95ms/step - loss: 0.0173 - accuracy: 1.0000 - val_loss: 0.7449 - val_accuracy: 0.7955\n",
            "Epoch 48/100\n",
            "13/13 [==============================] - 1s 97ms/step - loss: 0.0154 - accuracy: 1.0000 - val_loss: 0.8006 - val_accuracy: 0.7898\n",
            "Epoch 49/100\n",
            "13/13 [==============================] - 1s 96ms/step - loss: 0.0080 - accuracy: 1.0000 - val_loss: 0.8114 - val_accuracy: 0.7898\n",
            "Epoch 50/100\n",
            "13/13 [==============================] - 1s 97ms/step - loss: 0.0078 - accuracy: 1.0000 - val_loss: 0.8263 - val_accuracy: 0.7898\n",
            "Epoch 51/100\n",
            "13/13 [==============================] - 1s 94ms/step - loss: 0.0058 - accuracy: 1.0000 - val_loss: 0.7669 - val_accuracy: 0.7955\n",
            "Epoch 52/100\n",
            "13/13 [==============================] - 1s 97ms/step - loss: 0.0050 - accuracy: 1.0000 - val_loss: 0.7756 - val_accuracy: 0.7841\n",
            "Epoch 53/100\n",
            "13/13 [==============================] - 1s 97ms/step - loss: 0.0051 - accuracy: 1.0000 - val_loss: 0.7816 - val_accuracy: 0.7841\n",
            "Epoch 54/100\n",
            "13/13 [==============================] - 1s 96ms/step - loss: 0.0050 - accuracy: 1.0000 - val_loss: 0.7727 - val_accuracy: 0.7898\n",
            "Epoch 55/100\n",
            "13/13 [==============================] - 1s 96ms/step - loss: 0.0039 - accuracy: 1.0000 - val_loss: 0.7787 - val_accuracy: 0.7841\n",
            "Epoch 56/100\n",
            "13/13 [==============================] - 1s 99ms/step - loss: 0.0037 - accuracy: 1.0000 - val_loss: 0.8206 - val_accuracy: 0.7898\n",
            "Epoch 57/100\n",
            "13/13 [==============================] - 1s 97ms/step - loss: 0.0035 - accuracy: 1.0000 - val_loss: 0.7794 - val_accuracy: 0.7898\n",
            "Epoch 58/100\n",
            "13/13 [==============================] - 1s 96ms/step - loss: 0.0033 - accuracy: 1.0000 - val_loss: 0.7980 - val_accuracy: 0.7898\n",
            "Epoch 59/100\n",
            "13/13 [==============================] - 1s 96ms/step - loss: 0.0029 - accuracy: 1.0000 - val_loss: 0.7885 - val_accuracy: 0.7898\n",
            "Epoch 60/100\n",
            "13/13 [==============================] - 1s 96ms/step - loss: 0.0028 - accuracy: 1.0000 - val_loss: 0.7916 - val_accuracy: 0.7898\n",
            "Epoch 61/100\n",
            "13/13 [==============================] - 1s 96ms/step - loss: 0.0027 - accuracy: 1.0000 - val_loss: 0.8143 - val_accuracy: 0.7955\n",
            "Epoch 62/100\n",
            "13/13 [==============================] - 1s 96ms/step - loss: 0.0025 - accuracy: 1.0000 - val_loss: 0.7918 - val_accuracy: 0.7955\n",
            "Epoch 63/100\n",
            "13/13 [==============================] - 1s 96ms/step - loss: 0.0025 - accuracy: 1.0000 - val_loss: 0.8166 - val_accuracy: 0.7955\n",
            "Epoch 64/100\n",
            "13/13 [==============================] - 1s 95ms/step - loss: 0.0023 - accuracy: 1.0000 - val_loss: 0.8013 - val_accuracy: 0.7955\n",
            "Epoch 65/100\n",
            "13/13 [==============================] - 1s 98ms/step - loss: 0.0021 - accuracy: 1.0000 - val_loss: 0.8238 - val_accuracy: 0.7955\n",
            "Epoch 66/100\n",
            "13/13 [==============================] - 1s 99ms/step - loss: 0.0024 - accuracy: 1.0000 - val_loss: 0.8303 - val_accuracy: 0.7898\n",
            "Epoch 67/100\n",
            "13/13 [==============================] - 1s 96ms/step - loss: 0.0022 - accuracy: 1.0000 - val_loss: 0.8063 - val_accuracy: 0.8011\n",
            "Epoch 68/100\n",
            "13/13 [==============================] - 1s 98ms/step - loss: 0.0019 - accuracy: 1.0000 - val_loss: 0.8087 - val_accuracy: 0.8011\n",
            "Epoch 69/100\n",
            "13/13 [==============================] - 1s 97ms/step - loss: 0.0018 - accuracy: 1.0000 - val_loss: 0.8177 - val_accuracy: 0.7955\n",
            "Epoch 70/100\n",
            "13/13 [==============================] - 1s 96ms/step - loss: 0.0017 - accuracy: 1.0000 - val_loss: 0.8209 - val_accuracy: 0.7955\n",
            "Epoch 71/100\n",
            "13/13 [==============================] - 1s 95ms/step - loss: 0.0017 - accuracy: 1.0000 - val_loss: 0.8243 - val_accuracy: 0.8011\n",
            "Epoch 72/100\n",
            "13/13 [==============================] - 1s 96ms/step - loss: 0.0016 - accuracy: 1.0000 - val_loss: 0.8253 - val_accuracy: 0.7955\n",
            "Epoch 73/100\n",
            "13/13 [==============================] - 1s 96ms/step - loss: 0.0015 - accuracy: 1.0000 - val_loss: 0.8284 - val_accuracy: 0.8011\n",
            "Epoch 74/100\n",
            "13/13 [==============================] - 1s 97ms/step - loss: 0.0015 - accuracy: 1.0000 - val_loss: 0.8252 - val_accuracy: 0.8068\n",
            "Epoch 75/100\n",
            "13/13 [==============================] - 1s 97ms/step - loss: 0.0015 - accuracy: 1.0000 - val_loss: 0.8297 - val_accuracy: 0.8011\n",
            "Epoch 76/100\n",
            "13/13 [==============================] - 1s 96ms/step - loss: 0.0014 - accuracy: 1.0000 - val_loss: 0.8400 - val_accuracy: 0.7955\n",
            "Epoch 77/100\n",
            "13/13 [==============================] - 1s 97ms/step - loss: 0.0014 - accuracy: 1.0000 - val_loss: 0.8491 - val_accuracy: 0.7898\n",
            "Epoch 78/100\n",
            "13/13 [==============================] - 1s 98ms/step - loss: 0.0013 - accuracy: 1.0000 - val_loss: 0.8350 - val_accuracy: 0.8068\n",
            "Epoch 79/100\n",
            "13/13 [==============================] - 1s 96ms/step - loss: 0.0012 - accuracy: 1.0000 - val_loss: 0.8432 - val_accuracy: 0.8011\n",
            "Epoch 80/100\n",
            "13/13 [==============================] - 1s 97ms/step - loss: 0.0012 - accuracy: 1.0000 - val_loss: 0.8418 - val_accuracy: 0.8011\n",
            "Epoch 81/100\n",
            "13/13 [==============================] - 1s 96ms/step - loss: 0.0011 - accuracy: 1.0000 - val_loss: 0.8471 - val_accuracy: 0.8011\n",
            "Epoch 82/100\n",
            "13/13 [==============================] - 1s 95ms/step - loss: 0.0011 - accuracy: 1.0000 - val_loss: 0.8401 - val_accuracy: 0.8011\n",
            "Epoch 83/100\n",
            "13/13 [==============================] - 1s 95ms/step - loss: 0.0011 - accuracy: 1.0000 - val_loss: 0.8599 - val_accuracy: 0.7955\n",
            "Epoch 84/100\n",
            "13/13 [==============================] - 1s 97ms/step - loss: 0.0010 - accuracy: 1.0000 - val_loss: 0.8476 - val_accuracy: 0.8068\n",
            "Epoch 85/100\n",
            "13/13 [==============================] - 1s 96ms/step - loss: 0.0010 - accuracy: 1.0000 - val_loss: 0.8543 - val_accuracy: 0.7955\n",
            "Epoch 86/100\n",
            "13/13 [==============================] - 1s 96ms/step - loss: 0.0010 - accuracy: 1.0000 - val_loss: 0.8560 - val_accuracy: 0.7955\n",
            "Epoch 87/100\n",
            "13/13 [==============================] - 1s 97ms/step - loss: 9.5018e-04 - accuracy: 1.0000 - val_loss: 0.8551 - val_accuracy: 0.7955\n",
            "Epoch 88/100\n",
            "13/13 [==============================] - 1s 98ms/step - loss: 9.1830e-04 - accuracy: 1.0000 - val_loss: 0.8643 - val_accuracy: 0.8011\n",
            "Epoch 89/100\n",
            "13/13 [==============================] - 1s 97ms/step - loss: 8.9960e-04 - accuracy: 1.0000 - val_loss: 0.8663 - val_accuracy: 0.7955\n",
            "Epoch 90/100\n",
            "13/13 [==============================] - 1s 96ms/step - loss: 8.5819e-04 - accuracy: 1.0000 - val_loss: 0.8554 - val_accuracy: 0.8011\n",
            "Epoch 91/100\n",
            "13/13 [==============================] - 1s 95ms/step - loss: 8.4875e-04 - accuracy: 1.0000 - val_loss: 0.8787 - val_accuracy: 0.7955\n",
            "Epoch 92/100\n",
            "13/13 [==============================] - 1s 96ms/step - loss: 8.2798e-04 - accuracy: 1.0000 - val_loss: 0.8553 - val_accuracy: 0.8011\n",
            "Epoch 93/100\n",
            "13/13 [==============================] - 1s 96ms/step - loss: 8.1347e-04 - accuracy: 1.0000 - val_loss: 0.8738 - val_accuracy: 0.7955\n",
            "Epoch 94/100\n",
            "13/13 [==============================] - 1s 94ms/step - loss: 7.6715e-04 - accuracy: 1.0000 - val_loss: 0.8711 - val_accuracy: 0.7955\n",
            "Epoch 95/100\n",
            "13/13 [==============================] - 1s 98ms/step - loss: 7.6245e-04 - accuracy: 1.0000 - val_loss: 0.8670 - val_accuracy: 0.8068\n",
            "Epoch 96/100\n",
            "13/13 [==============================] - 1s 99ms/step - loss: 7.2232e-04 - accuracy: 1.0000 - val_loss: 0.8761 - val_accuracy: 0.8011\n",
            "Epoch 97/100\n",
            "13/13 [==============================] - 2s 159ms/step - loss: 7.0455e-04 - accuracy: 1.0000 - val_loss: 0.8730 - val_accuracy: 0.8011\n",
            "Epoch 98/100\n",
            "13/13 [==============================] - 2s 170ms/step - loss: 6.9586e-04 - accuracy: 1.0000 - val_loss: 0.8720 - val_accuracy: 0.8068\n",
            "Epoch 99/100\n",
            "13/13 [==============================] - 2s 134ms/step - loss: 6.9420e-04 - accuracy: 1.0000 - val_loss: 0.8777 - val_accuracy: 0.8068\n",
            "Epoch 100/100\n",
            "13/13 [==============================] - 1s 98ms/step - loss: 6.7719e-04 - accuracy: 1.0000 - val_loss: 0.8751 - val_accuracy: 0.8125\n"
          ],
          "name": "stdout"
        }
      ]
    },
    {
      "cell_type": "code",
      "metadata": {
        "colab": {
          "base_uri": "https://localhost:8080/",
          "height": 573
        },
        "id": "kZp7daRXPa5O",
        "outputId": "c996f5fd-70a8-4e53-fe1a-26e601e8d68b"
      },
      "source": [
        "plt.plot(H.history['accuracy'])\n",
        "plt.plot(H.history['val_accuracy'])\n",
        "plt.title('model accuracy')\n",
        "plt.ylabel('accuracy')\n",
        "plt.xlabel('epoch')\n",
        "plt.legend(['train', 'test'], loc='upper left')\n",
        "plt.show()\n",
        "\n",
        "plt.plot(H.history['loss'])\n",
        "plt.plot(H.history['val_loss'])\n",
        "plt.title('model loss')\n",
        "plt.ylabel('loss')\n",
        "plt.xlabel('epoch')\n",
        "plt.legend(['train', 'test'], loc='upper left')\n",
        "plt.show()"
      ],
      "execution_count": 223,
      "outputs": [
        {
          "output_type": "display_data",
          "data": {
            "image/png": "[encoded data removed]",
            "text/plain": [
              "<Figure size 432x288 with 1 Axes>"
            ]
          },
          "metadata": {
            "tags": [],
            "needs_background": "light"
          }
        },
        {
          "output_type": "display_data",
          "data": {
            "image/png": "[encoded data removed]",
            "text/plain": [
              "<Figure size 432x288 with 1 Axes>"
            ]
          },
          "metadata": {
            "tags": [],
            "needs_background": "light"
          }
        }
      ]
    },
    {
      "cell_type": "code",
      "metadata": {
        "colab": {
          "base_uri": "https://localhost:8080/"
        },
        "id": "t-aX4SszPdZN",
        "outputId": "a7481c39-2f09-4cc0-e1ab-9ffb7e57eb68"
      },
      "source": [
        "print(\"[INFO] evaluating network ...\")\n",
        "predictions = model.predict(testX, batch_size=32)\n",
        "print(classification_report(testY.argmax(axis=1), predictions.argmax(axis=1), target_names=lb.classes_))"
      ],
      "execution_count": 224,
      "outputs": [
        {
          "output_type": "stream",
          "text": [
            "[INFO] evaluating network ...\n",
            "              precision    recall  f1-score   support\n",
            "\n",
            "      GMB_01       0.76      0.83      0.79        30\n",
            "      GMB_02       0.85      0.78      0.82        37\n",
            "      GMB_03       0.90      0.82      0.86        33\n",
            "      GMB_04       0.71      0.78      0.74        37\n",
            "      GMB_05       0.87      0.85      0.86        39\n",
            "\n",
            "    accuracy                           0.81       176\n",
            "   macro avg       0.82      0.81      0.81       176\n",
            "weighted avg       0.82      0.81      0.81       176\n",
            "\n"
          ],
          "name": "stdout"
        }
      ]
    },
    {
      "cell_type": "code",
      "metadata": {
        "id": "Msy0PK8wPnVQ"
      },
      "source": [
        ""
      ],
      "execution_count": null,
      "outputs": []
    }
  ]
}